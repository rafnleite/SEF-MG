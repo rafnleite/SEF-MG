{
 "cells": [
  {
   "cell_type": "code",
   "execution_count": 185,
   "metadata": {},
   "outputs": [],
   "source": [
    "import pandas as pd\n",
    "import numpy as np\n",
    "from datetime import date\n",
    "from datetime import datetime"
   ]
  },
  {
   "cell_type": "code",
   "execution_count": 186,
   "metadata": {},
   "outputs": [],
   "source": [
    "def selecionar_aprovados(dados):\n",
    "\n",
    "    df = dados.copy(deep=True)\n",
    "\n",
    "    # Seleciona os 81 primeiros candidatos aprovados\n",
    "    df.loc[df.loc[df[\"APROVADO DISCURSIVA\"] == True].head(81).index, 'SITUAÇÃO PARCIAL'] = \"Aprovado nas vagas de ampla concorrência\"\n",
    "\n",
    "    # Seleciona os candidatos aprovados PCD que ainda não foram incluídos\n",
    "     \n",
    "    df.loc[df.loc[(df['SITUAÇÃO PARCIAL'].isna()) & \n",
    "                  (df[\"SITUACAO OBJETIVA\"] == \"Aprovado PcD\") &\n",
    "                  (df[\"APROVADO DISCURSIVA\"] == True)].head(9).index, 'SITUAÇÃO PARCIAL'] = \"Aprovado nas vagas de cota PCD\"\n",
    "\n",
    "    # Caso não haja 9 candidatos aprovados PCD, completa com aprovados na Ampla\n",
    "    if len(df[df['SITUAÇÃO PARCIAL'] == \"Cota PCD\"]) < 9:\n",
    "        df.loc[df.loc[(df['SITUAÇÃO PARCIAL'].isna()) &\n",
    "                      (df[\"APROVADO DISCURSIVA\"] == True)].head(9 - len(df[df['SITUAÇÃO PARCIAL'] == \"Aprovado nas vagas de cota PCD\"])).index, 'SITUAÇÃO PARCIAL'] = \"Aprovado nas vagas de ampla concorrência\"\n",
    "\n",
    "    df.loc[(df['SITUAÇÃO PARCIAL'].isna()) & \n",
    "           (df[\"APROVADO DISCURSIVA\"] == True), 'SITUAÇÃO PARCIAL'] = \"Cadastro de Reservas\"\n",
    "\n",
    "    df['SITUAÇÃO PARCIAL'] = df['SITUAÇÃO PARCIAL'].fillna('Reprovado na discursiva')\n",
    "      \n",
    "    # Retorna os 81 primeiros aprovados + os 9 primeiros aprovados PCD\n",
    "    return df"
   ]
  },
  {
   "cell_type": "code",
   "execution_count": 187,
   "metadata": {},
   "outputs": [],
   "source": [
    "resultado_objetiva = pd.read_csv('./data/resultado-objetiva.csv', sep=\";\", index_col=['INSC_NUMB', 'NOME'])\n",
    "resultado_discursiva = pd.read_csv('./data/resultado-discursiva.csv', sep=\";\", index_col=['INSC_NUMB', 'NOME'])"
   ]
  },
  {
   "cell_type": "code",
   "execution_count": 188,
   "metadata": {},
   "outputs": [],
   "source": [
    "resultado_preliminar = resultado_objetiva.merge(resultado_discursiva, on=['INSC_NUMB', 'NOME'], how='left')"
   ]
  },
  {
   "cell_type": "code",
   "execution_count": 189,
   "metadata": {},
   "outputs": [],
   "source": [
    "resultado_preliminar['TOTAL'] = resultado_preliminar['TOTAL OBJETIVA'] + resultado_preliminar['TOTAL DISCURSIVA'].fillna(value=0)\n",
    "resultado_preliminar['APROVADO DISCURSIVA'] = resultado_preliminar['TOTAL DISCURSIVA'] >= 40\n",
    "resultado_preliminar['NASC'] = pd.to_datetime(resultado_preliminar['NASC'], format='%d/%m/%Y')\n",
    "today = datetime.today()\n",
    "resultado_preliminar['IDADE'] = (today - resultado_preliminar['NASC']).astype('timedelta64[Y]')\n",
    "resultado_preliminar['IDOSO'] = resultado_preliminar['IDADE'] >= 60"
   ]
  },
  {
   "cell_type": "code",
   "execution_count": 190,
   "metadata": {},
   "outputs": [],
   "source": [
    "resultado_preliminar_ordenado = resultado_preliminar.sort_values(by=['APROVADO DISCURSIVA', 'TOTAL', 'IDOSO', 'TOTAL DISCURSIVA', 'P2', 'CD', 'DEV', 'BD', 'NASC'], \n",
    "                                               ascending=[False, False, False, False, False, False, False, False, True])"
   ]
  },
  {
   "cell_type": "code",
   "execution_count": 191,
   "metadata": {},
   "outputs": [],
   "source": [
    "resultado_preliminar_ordenado = resultado_preliminar_ordenado.reset_index(drop=False)\n",
    "resultado_preliminar_ordenado['POS'] = resultado_preliminar_ordenado.index + 1"
   ]
  },
  {
   "cell_type": "code",
   "execution_count": null,
   "metadata": {},
   "outputs": [],
   "source": [
    "resultado_preliminar_ordenado[resultado_preliminar_ordenado[\"SITUACAO OBJETIVA\"] == \"Aprovado PcD\"]"
   ]
  },
  {
   "cell_type": "code",
   "execution_count": 193,
   "metadata": {},
   "outputs": [],
   "source": [
    "resultado_preliminar_ordenado = selecionar_aprovados(resultado_preliminar_ordenado)"
   ]
  },
  {
   "cell_type": "code",
   "execution_count": null,
   "metadata": {},
   "outputs": [],
   "source": [
    "resultado_preliminar_ordenado[['POS', 'INSC_NUMB', 'NOME', 'TOTAL', 'IDOSO', 'TOTAL DISCURSIVA', 'P2', 'CD','DEV', 'BD', 'NASC', 'VAGAS']]"
   ]
  }
 ],
 "metadata": {
  "kernelspec": {
   "display_name": "base",
   "language": "python",
   "name": "python3"
  },
  "language_info": {
   "codemirror_mode": {
    "name": "ipython",
    "version": 3
   },
   "file_extension": ".py",
   "mimetype": "text/x-python",
   "name": "python",
   "nbconvert_exporter": "python",
   "pygments_lexer": "ipython3",
   "version": "3.9.7"
  },
  "orig_nbformat": 4
 },
 "nbformat": 4,
 "nbformat_minor": 2
}
